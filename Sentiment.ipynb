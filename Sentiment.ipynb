{
 "cells": [
  {
   "cell_type": "code",
   "execution_count": 5,
   "metadata": {},
   "outputs": [],
   "source": [
    "import numpy as np\n",
    "import pandas as pd"
   ]
  },
  {
   "cell_type": "markdown",
   "metadata": {},
   "source": [
    " Dataset from Kaggle: https://www.kaggle.com/kazanova/sentiment140"
   ]
  },
  {
   "cell_type": "code",
   "execution_count": 12,
   "metadata": {},
   "outputs": [],
   "source": [
    "csv=pd.read_csv(\"training.1600000.processed.noemoticon.csv\",header=None,encoding='latin')"
   ]
  },
  {
   "cell_type": "code",
   "execution_count": 23,
   "metadata": {},
   "outputs": [],
   "source": [
    "labels=list(csv.iloc[:,0])"
   ]
  },
  {
   "cell_type": "code",
   "execution_count": 73,
   "metadata": {},
   "outputs": [],
   "source": [
    "for i in range(len(labels)):\n",
    "    if labels[i]>0:\n",
    "        labels[i]=1"
   ]
  },
  {
   "cell_type": "code",
   "execution_count": 74,
   "metadata": {},
   "outputs": [],
   "source": [
    "def clean(s):\n",
    "    x=filter(lambda x:x[0]!=\"@\",s.split())\n",
    "    x=filter(lambda x:x[:4]!=\"http\",x)\n",
    "    \n",
    "    return \" \".join(x)"
   ]
  },
  {
   "cell_type": "code",
   "execution_count": 75,
   "metadata": {},
   "outputs": [],
   "source": [
    "tweets=list(csv.iloc[:,5].apply(clean))"
   ]
  },
  {
   "cell_type": "code",
   "execution_count": 76,
   "metadata": {},
   "outputs": [],
   "source": [
    "from keras.preprocessing.text import Tokenizer\n",
    "from keras.preprocessing.sequence import pad_sequences"
   ]
  },
  {
   "cell_type": "code",
   "execution_count": 77,
   "metadata": {},
   "outputs": [],
   "source": [
    "vocab_size=20000\n",
    "embedding_dim=100\n",
    "max_length=12\n",
    "train_size=1000000"
   ]
  },
  {
   "cell_type": "code",
   "execution_count": 78,
   "metadata": {},
   "outputs": [],
   "source": [
    "trainx=tweets[:train_size]\n",
    "trainy=labels[:train_size]\n",
    "testx=tweets[train_size:]\n",
    "testy=labels[train_size:]"
   ]
  },
  {
   "cell_type": "code",
   "execution_count": 79,
   "metadata": {},
   "outputs": [],
   "source": [
    "tokenizer=Tokenizer(num_words=vocab_size,oov_token=\"<OOV>\")\n",
    "tokenizer.fit_on_texts(trainx)"
   ]
  },
  {
   "cell_type": "code",
   "execution_count": 80,
   "metadata": {},
   "outputs": [],
   "source": [
    "sequence_train=tokenizer.texts_to_sequences(trainx)\n",
    "sequence_test=tokenizer.texts_to_sequences(testx)\n",
    "padded_train=pad_sequences(sequence_train,maxlen=max_length,truncating=\"post\",padding=\"post\")\n",
    "padded_test=pad_sequences(sequence_test,maxlen=max_length,truncating=\"post\",padding=\"post\")"
   ]
  },
  {
   "cell_type": "code",
   "execution_count": 81,
   "metadata": {},
   "outputs": [],
   "source": [
    "from keras import layers,models\n",
    "model=models.Sequential()\n",
    "model.add(layers.Embedding(vocab_size,embedding_dim,input_length=max_length))\n",
    "model.add(layers.Bidirectional(layers.LSTM(64)))\n",
    "model.add(layers.Dense(28,activation=\"relu\"))\n",
    "model.add(layers.Dense(1,activation=\"sigmoid\"))\n",
    "model.compile(loss=\"binary_crossentropy\",optimizer=\"adam\",metrics=[\"acc\"])"
   ]
  },
  {
   "cell_type": "markdown",
   "metadata": {},
   "source": [
    "# Train on GPU if you dont have 6+ hours"
   ]
  },
  {
   "cell_type": "code",
   "execution_count": null,
   "metadata": {
    "scrolled": true
   },
   "outputs": [],
   "source": [
    "history=model.fit(padded_train,trainy,epochs=10,validation_data=(padded_test,testy))"
   ]
  },
  {
   "cell_type": "code",
   "execution_count": 83,
   "metadata": {},
   "outputs": [],
   "source": [
    "import matplotlib.pyplot as plt\n",
    "def loss_accuracy_graphs(history):\n",
    "    acc=history.history['acc']\n",
    "    val_accuracy=history.history['val_acc']\n",
    "    loss==history.history['loss']\n",
    "    val_loss=history.history['val_loss']\n",
    "    plt.plot(acc,'b',label=\"training accuracy\")\n",
    "    plt.plot(val_accuracy,label=\"validation accuracy\")    \n",
    "    plt.legend()\n",
    "    plt.figure()\n",
    "    plt.plot(loss,'b',label=\"training loss\")\n",
    "    plt.plot(val_loss,label=\"validation loss\")\n",
    "    plt.legend()\n",
    "    plt.show()"
   ]
  },
  {
   "cell_type": "code",
   "execution_count": null,
   "metadata": {},
   "outputs": [],
   "source": [
    "loss_accuracy_graphs(history)"
   ]
  }
 ],
 "metadata": {
  "kernelspec": {
   "display_name": "Python 3",
   "language": "python",
   "name": "python3"
  },
  "language_info": {
   "codemirror_mode": {
    "name": "ipython",
    "version": 3
   },
   "file_extension": ".py",
   "mimetype": "text/x-python",
   "name": "python",
   "nbconvert_exporter": "python",
   "pygments_lexer": "ipython3",
   "version": "3.7.6"
  }
 },
 "nbformat": 4,
 "nbformat_minor": 4
}
